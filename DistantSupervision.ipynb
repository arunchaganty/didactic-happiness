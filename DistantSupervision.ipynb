{
 "cells": [
  {
   "cell_type": "code",
   "execution_count": 1,
   "metadata": {
    "collapsed": true
   },
   "outputs": [],
   "source": [
    "# Python imports\n",
    "%matplotlib inline\n",
    "\n",
    "import matplotlib\n",
    "import numpy as np\n",
    "import matplotlib.pyplot as plt\n",
    "\n",
    "def normalize(vec):\n",
    "    return vec / np.linalg.norm(vec)"
   ]
  },
  {
   "cell_type": "markdown",
   "metadata": {},
   "source": [
    "# Distant Supervision\n",
    "\n",
    "This notebook has a few cute experiments to explore distant supervision."
   ]
  },
  {
   "cell_type": "markdown",
   "metadata": {},
   "source": [
    "## Data generation\n",
    "\n",
    "Consider a random (unit) weights $w^*$.\n",
    "Take a dataset of elements ${x_a, x_b}$ randomly generated and $y = w^* \\cdot x$."
   ]
  },
  {
   "cell_type": "code",
   "execution_count": 2,
   "metadata": {
    "collapsed": true
   },
   "outputs": [],
   "source": [
    "# Constants\n",
    "D = 2\n",
    "N = 100\n",
    "K = 2"
   ]
  },
  {
   "cell_type": "code",
   "execution_count": 3,
   "metadata": {
    "collapsed": false
   },
   "outputs": [],
   "source": [
    "w = np.random.randn(D)\n",
    "w = normalize(w)\n",
    "theta = np.arctan2(w[0], w[1])\n",
    "\n",
    "X = np.random.randn(N,D,K)\n",
    "# Normalize\n",
    "for i in range(N):\n",
    "    for k in range(K):\n",
    "        X[i].T[k] = normalize(X[i].T[k])\n",
    "y = np.array([X[i].T[0].dot(w) for i in range(N)])"
   ]
  },
  {
   "cell_type": "code",
   "execution_count": 9,
   "metadata": {
    "collapsed": false
   },
   "outputs": [],
   "source": [
    "def avg_loss(X, y, w):\n",
    "    loss = 0.\n",
    "    for i, (x, y) in enumerate(zip(X,y)):\n",
    "        loss_k = [abs(w.dot(x.T[k]) - y)**2 for k in range(K)]\n",
    "        resp = [np.exp(-l) for l in loss_k]\n",
    "        resp = resp / sum(resp)\n",
    "        loss_ = sum(r * loss_ for (r, loss_) in zip(resp, loss_k))\n",
    "        loss += (loss_ - loss)/(i+1)\n",
    "    return loss"
   ]
  },
  {
   "cell_type": "code",
   "execution_count": 46,
   "metadata": {
    "collapsed": true
   },
   "outputs": [],
   "source": [
    "def avg_loss(X, y, w):\n",
    "    loss = 0.\n",
    "    for i, (x, y) in enumerate(zip(X,y)):\n",
    "        loss_k = [abs(w.dot(x.T[k]) - y)**2 for k in range(K)]\n",
    "        loss_ = np.min(loss_k)\n",
    "        loss += (loss_ - loss)/(i+1)\n",
    "    return loss"
   ]
  },
  {
   "cell_type": "code",
   "execution_count": 47,
   "metadata": {
    "collapsed": false
   },
   "outputs": [
    {
     "data": {
      "text/plain": [
       "0.0"
      ]
     },
     "execution_count": 47,
     "metadata": {},
     "output_type": "execute_result"
    }
   ],
   "source": [
    "# Q1. What is the averaged objective?\n",
    "avg_loss(X, y, w)"
   ]
  },
  {
   "cell_type": "code",
   "execution_count": 48,
   "metadata": {
    "collapsed": false
   },
   "outputs": [],
   "source": [
    "thetas = np.arange(-np.pi, np.pi, 0.01)"
   ]
  },
  {
   "cell_type": "code",
   "execution_count": 49,
   "metadata": {
    "collapsed": false
   },
   "outputs": [
    {
     "data": {
      "text/plain": [
       "[<matplotlib.lines.Line2D at 0x7f2660c85748>]"
      ]
     },
     "execution_count": 49,
     "metadata": {},
     "output_type": "execute_result"
    },
    {
     "data": {
      "image/png": "[encoded data removed]",
      "text/plain": [
       "<matplotlib.figure.Figure at 0x7f2660f672e8>"
      ]
     },
     "metadata": {},
     "output_type": "display_data"
    }
   ],
   "source": [
    "# Plot of values.\n",
    "ws = np.array([np.sin(theta+thetas), np.cos(theta+thetas)]).T\n",
    "losses = [avg_loss(X, y, w_) for w_ in ws]\n",
    "plt.plot(thetas, losses)"
   ]
  },
  {
   "cell_type": "code",
   "execution_count": 50,
   "metadata": {
    "collapsed": false
   },
   "outputs": [
    {
     "name": "stdout",
     "output_type": "stream",
     "text": [
      "-0.00159265358986 1.26307795464e-06\n",
      "0.00840734641014 3.51976518817e-05\n",
      "-0.00159265358986 1.26307795464e-06\n"
     ]
    }
   ],
   "source": [
    "print(thetas[314], losses[314])\n",
    "print(thetas[315], losses[315])\n",
    "print(thetas[np.argmin(losses)], losses[np.argmin(losses)])"
   ]
  },
  {
   "cell_type": "code",
   "execution_count": null,
   "metadata": {
    "collapsed": true
   },
   "outputs": [],
   "source": []
  }
 ],
 "metadata": {
  "kernelspec": {
   "display_name": "Python 3",
   "language": "python",
   "name": "python3"
  },
  "language_info": {
   "codemirror_mode": {
    "name": "ipython",
    "version": 3
   },
   "file_extension": ".py",
   "mimetype": "text/x-python",
   "name": "python",
   "nbconvert_exporter": "python",
   "pygments_lexer": "ipython3",
   "version": "3.4.3"
  }
 },
 "nbformat": 4,
 "nbformat_minor": 0
}
